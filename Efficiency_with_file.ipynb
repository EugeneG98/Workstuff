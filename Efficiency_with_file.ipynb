{
 "cells": [
  {
   "cell_type": "code",
   "execution_count": 4,
   "id": "b8d040a3-4785-4e75-a335-3654069f5104",
   "metadata": {},
   "outputs": [
    {
     "name": "stdout",
     "output_type": "stream",
     "text": [
      "Результаты успешно сохранены в файл 'результаты_сводных_таблиц.xlsx'\n"
     ]
    }
   ],
   "source": [
    "import pandas as pd\n",
    "\n",
    "# Загрузка данных из файла Excel\n",
    "file_path = '/Users/Gorin/Desktop/Тест/tasks_2025-02-04_15_23_27.xls'  # Укажи путь к своему файлу\n",
    "df = pd.read_excel(file_path)\n",
    "\n",
    "# Проверка на наличие нужных столбцов\n",
    "if 'Постановщик' not in df.columns or 'Исполнитель' not in df.columns:\n",
    "    raise ValueError(\"Отсутствуют необходимые столбцы 'Постановщик' или 'Исполнитель'.\")\n",
    "\n",
    "# Заполнение пустых ячеек значением 'пусто'\n",
    "df['Постановщик'].fillna('пусто', inplace=True)\n",
    "df['Исполнитель'].fillna('пусто', inplace=True)\n",
    "\n",
    "# Подсчитываем количество обращений для каждого постановщика\n",
    "result_postanovshik = df['Постановщик'].value_counts().reset_index()\n",
    "result_postanovshik.columns = ['Постановщик', 'Сумма задач']\n",
    "result_postanovshik.insert(0, 'Индекс', range(1, len(result_postanovshik) + 1))\n",
    "\n",
    "# Подсчитываем количество задач для каждого исполнителя\n",
    "result_executor = df['Исполнитель'].value_counts().reset_index()\n",
    "result_executor.columns = ['Исполнитель', 'Сумма задач']\n",
    "result_executor.insert(0, 'Индекс', range(1, len(result_executor) + 1))\n",
    "\n",
    "# Суммирование в первых двух сводных таблицах\n",
    "sum_postanovshik = pd.DataFrame({'Постановщик': ['Сумма'], 'Сумма задач': [result_postanovshik['Сумма задач'].sum()]})\n",
    "sum_executor = pd.DataFrame({'Исполнитель': ['Сумма'], 'Сумма задач': [result_executor['Сумма задач'].sum()]})\n",
    "\n",
    "# Добавляем строку с суммой в обе таблицы\n",
    "result_postanovshik = pd.concat([result_postanovshik, sum_postanovshik], ignore_index=True)\n",
    "result_executor = pd.concat([result_executor, sum_executor], ignore_index=True)\n",
    "\n",
    "# Преобразуем индексы в целые числа, заменяя NaN на 0\n",
    "result_postanovshik['Индекс'] = result_postanovshik['Индекс'].fillna(0).astype(int)\n",
    "result_executor['Индекс'] = result_executor['Индекс'].fillna(0).astype(int)\n",
    "\n",
    "# Создание столбца для времени выполнения задачи\n",
    "df['Время выполнения задачи'] = (df['Дата закрытия'] - df['Дата создания']).dt.total_seconds() / 3600  # Время в часах\n",
    "\n",
    "# Округление времени выполнения задач до тысячных\n",
    "df['Время выполнения задачи'] = df['Время выполнения задачи'].round(3)\n",
    "\n",
    "# Группируем по исполнителю и вычисляем среднее время выполнения задачи\n",
    "average_time_per_executor = df.groupby('Исполнитель')['Время выполнения задачи'].mean().reset_index()\n",
    "\n",
    "# Создаем Excel файл с четырьмя листами\n",
    "with pd.ExcelWriter('/Users/Gorin/Desktop/результаты_сводных_таблиц.xlsx') as writer:\n",
    "    # Записываем сводную таблицу по постановщикам\n",
    "    result_postanovshik.to_excel(writer, sheet_name='Постановщики', index=False)\n",
    "    \n",
    "    # Записываем сводную таблицу по исполнителям\n",
    "    result_executor.to_excel(writer, sheet_name='Исполнители', index=False)\n",
    "    \n",
    "    # Записываем список с исполнителями и временем выполнения задач на новый лист \"Время выполнения\"\n",
    "    df[['Исполнитель', 'Время выполнения задачи']].to_excel(writer, sheet_name='Время выполнения', index=False)\n",
    "    \n",
    "    # Записываем среднее время выполнения по каждому исполнителю на новый лист \"Среднее время выполнения\"\n",
    "    average_time_per_executor.to_excel(writer, sheet_name='Среднее время выполнения', index=False)\n",
    "\n",
    "print(\"Результаты успешно сохранены в файл 'результаты_сводных_таблиц.xlsx'\")\n"
   ]
  },
  {
   "cell_type": "code",
   "execution_count": null,
   "id": "89d9cc7f-1e0d-4e92-a030-e61a69806053",
   "metadata": {},
   "outputs": [],
   "source": []
  }
 ],
 "metadata": {
  "kernelspec": {
   "display_name": "Python 3 (ipykernel)",
   "language": "python",
   "name": "python3"
  },
  "language_info": {
   "codemirror_mode": {
    "name": "ipython",
    "version": 3
   },
   "file_extension": ".py",
   "mimetype": "text/x-python",
   "name": "python",
   "nbconvert_exporter": "python",
   "pygments_lexer": "ipython3",
   "version": "3.9.0"
  }
 },
 "nbformat": 4,
 "nbformat_minor": 5
}
